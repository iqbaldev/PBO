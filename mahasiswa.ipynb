{
  "nbformat": 4,
  "nbformat_minor": 0,
  "metadata": {
    "colab": {
      "provenance": [],
      "authorship_tag": "ABX9TyPonRqFNIZ8+S6Hfcl0RtZE",
      "include_colab_link": true
    },
    "kernelspec": {
      "name": "python3",
      "display_name": "Python 3"
    },
    "language_info": {
      "name": "python"
    }
  },
  "cells": [
    {
      "cell_type": "markdown",
      "metadata": {
        "id": "view-in-github",
        "colab_type": "text"
      },
      "source": [
        "<a href=\"https://colab.research.google.com/github/iqbaldev/PBO/blob/main/mahasiswa.ipynb\" target=\"_parent\"><img src=\"https://colab.research.google.com/assets/colab-badge.svg\" alt=\"Open In Colab\"/></a>"
      ]
    },
    {
      "cell_type": "code",
      "execution_count": 1,
      "metadata": {
        "colab": {
          "base_uri": "https://localhost:8080/"
        },
        "id": "Bq5G652Ml2cE",
        "outputId": "75a5ff9a-1fe2-4516-85d0-8f140b9b7b4b"
      },
      "outputs": [
        {
          "output_type": "stream",
          "name": "stdout",
          "text": [
            "Nama: Khairul Iqbal, NIM: 230705150\n",
            "Mahasiswa Khairul Iqbal dengan NIM 230705150 telah mencetak KRS.\n"
          ]
        }
      ],
      "source": [
        "# File 1: mahasiswa.py\n",
        "class Mahasiswa:\n",
        "    def __init__(self, nama, nim):\n",
        "        self.__nama = nama\n",
        "        self.__nim = nim\n",
        "\n",
        "    def get_nama(self):\n",
        "        return self.__nama\n",
        "\n",
        "    def get_nim(self):\n",
        "        return self.__nim\n",
        "\n",
        "    def cetak_krs(self):\n",
        "        print(f\"Mahasiswa {self.__nama} dengan NIM {self.__nim} telah mencetak KRS.\")\n",
        "\n",
        "# Membuat objek\n",
        "mhs = Mahasiswa(\"Khairul Iqbal\", \"230705150\")\n",
        "print(f\"Nama: {mhs.get_nama()}, NIM: {mhs.get_nim()}\")\n",
        "mhs.cetak_krs()"
      ]
    }
  ]
}