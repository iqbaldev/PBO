{
  "nbformat": 4,
  "nbformat_minor": 0,
  "metadata": {
    "colab": {
      "provenance": [],
      "authorship_tag": "ABX9TyMhIc3RpXgRYi6AaYxJ5d50",
      "include_colab_link": true
    },
    "kernelspec": {
      "name": "python3",
      "display_name": "Python 3"
    },
    "language_info": {
      "name": "python"
    }
  },
  "cells": [
    {
      "cell_type": "markdown",
      "metadata": {
        "id": "view-in-github",
        "colab_type": "text"
      },
      "source": [
        "<a href=\"https://colab.research.google.com/github/iqbaldev/PBO/blob/main/mahasiswa.ipynb\" target=\"_parent\"><img src=\"https://colab.research.google.com/assets/colab-badge.svg\" alt=\"Open In Colab\"/></a>"
      ]
    },
    {
      "cell_type": "code",
      "execution_count": 6,
      "metadata": {
        "colab": {
          "base_uri": "https://localhost:8080/"
        },
        "id": "SvplKYoadOyb",
        "outputId": "aba5b0d0-ac93-45fe-e7ef-55f7a84db936"
      },
      "outputs": [
        {
          "output_type": "stream",
          "name": "stdout",
          "text": [
            "Mahasiswa Khairul Iqbal dengan NIM 230705150 telah mencetak KRS.\n"
          ]
        }
      ],
      "source": [
        "\n",
        "class Mahasiswa:\n",
        "    def __init__(self, nama, nim):\n",
        "        self.nama = nama\n",
        "        self.nim = nim\n",
        "\n",
        "    def cetak_krs(self):\n",
        "        print(f\"Mahasiswa {self.nama} dengan NIM {self.nim} telah mencetak KRS.\")\n",
        "\n",
        "# Membuat objek dari kelas Mahasiswa\n",
        "mhs = Mahasiswa(\"Khairul Iqbal\", \"230705150\")\n",
        "mhs.cetak_krs()\n",
        "\n"
      ]
    }
  ]
}